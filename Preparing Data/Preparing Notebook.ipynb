{
 "cells": [
  {
   "cell_type": "code",
   "execution_count": 1,
   "metadata": {
    "execution": {
     "iopub.execute_input": "2025-07-23T07:38:43.807638Z",
     "iopub.status.busy": "2025-07-23T07:38:43.807462Z",
     "iopub.status.idle": "2025-07-23T07:39:17.255797Z",
     "shell.execute_reply": "2025-07-23T07:39:17.255038Z",
     "shell.execute_reply.started": "2025-07-23T07:38:43.807622Z"
    },
    "trusted": true
   },
   "outputs": [
    {
     "name": "stdout",
     "output_type": "stream",
     "text": [
      "\u001b[2K   \u001b[90m━━━━━━━━━━━━━━━━━━━━━━━━━━━━━━━━━━━━━━━━\u001b[0m \u001b[32m2.5/2.5 MB\u001b[0m \u001b[31m40.9 MB/s\u001b[0m eta \u001b[36m0:00:00\u001b[0ma \u001b[36m0:00:01\u001b[0m\n",
      "\u001b[2K   \u001b[90m━━━━━━━━━━━━━━━━━━━━━━━━━━━━━━━━━━━━━━━━\u001b[0m \u001b[32m45.2/45.2 kB\u001b[0m \u001b[31m2.6 MB/s\u001b[0m eta \u001b[36m0:00:00\u001b[0m\n",
      "\u001b[2K   \u001b[90m━━━━━━━━━━━━━━━━━━━━━━━━━━━━━━━━━━━━━━━━\u001b[0m \u001b[32m65.5/65.5 kB\u001b[0m \u001b[31m4.4 MB/s\u001b[0m eta \u001b[36m0:00:00\u001b[0m\n",
      "\u001b[?25h\u001b[31mERROR: pip's dependency resolver does not currently take into account all the packages that are installed. This behaviour is the source of the following dependency conflicts.\n",
      "bigframes 2.8.0 requires google-cloud-bigquery-storage<3.0.0,>=2.30.0, which is not installed.\n",
      "datasets 3.6.0 requires fsspec[http]<=2025.3.0,>=2023.1.0, but you have fsspec 2025.5.1 which is incompatible.\n",
      "cesium 0.12.4 requires numpy<3.0,>=2.0, but you have numpy 1.26.4 which is incompatible.\n",
      "pandas-gbq 0.29.1 requires google-api-core<3.0.0,>=2.10.2, but you have google-api-core 1.34.1 which is incompatible.\n",
      "thinc 8.3.6 requires numpy<3.0.0,>=2.0.0, but you have numpy 1.26.4 which is incompatible.\n",
      "plotnine 0.14.5 requires matplotlib>=3.8.0, but you have matplotlib 3.7.2 which is incompatible.\n",
      "dataproc-spark-connect 0.7.5 requires google-api-core>=2.19, but you have google-api-core 1.34.1 which is incompatible.\n",
      "bigframes 2.8.0 requires google-cloud-bigquery[bqstorage,pandas]>=3.31.0, but you have google-cloud-bigquery 3.25.0 which is incompatible.\n",
      "bigframes 2.8.0 requires rich<14,>=12.4.4, but you have rich 14.0.0 which is incompatible.\n",
      "mlxtend 0.23.4 requires scikit-learn>=1.3.1, but you have scikit-learn 1.2.2 which is incompatible.\u001b[0m\u001b[31m\n",
      "\u001b[2K     \u001b[90m━━━━━━━━━━━━━━━━━━━━━━━━━━━━━━━━━━━━━━━━\u001b[0m \u001b[32m67.3/67.3 kB\u001b[0m \u001b[31m2.8 MB/s\u001b[0m eta \u001b[36m0:00:00\u001b[0m\n",
      "\u001b[?25h  Installing build dependencies ... \u001b[?25l\u001b[?25hdone\n",
      "  Getting requirements to build wheel ... \u001b[?25l\u001b[?25hdone\n",
      "  Preparing metadata (pyproject.toml) ... \u001b[?25l\u001b[?25hdone\n",
      "\u001b[2K   \u001b[90m━━━━━━━━━━━━━━━━━━━━━━━━━━━━━━━━━━━━━━━━\u001b[0m \u001b[32m19.5/19.5 MB\u001b[0m \u001b[31m90.3 MB/s\u001b[0m eta \u001b[36m0:00:00\u001b[0m:00:01\u001b[0m00:01\u001b[0m\n",
      "\u001b[2K   \u001b[90m━━━━━━━━━━━━━━━━━━━━━━━━━━━━━━━━━━━━━━━━\u001b[0m \u001b[32m284.2/284.2 kB\u001b[0m \u001b[31m14.6 MB/s\u001b[0m eta \u001b[36m0:00:00\u001b[0m\n",
      "\u001b[2K   \u001b[90m━━━━━━━━━━━━━━━━━━━━━━━━━━━━━━━━━━━━━━━━\u001b[0m \u001b[32m1.9/1.9 MB\u001b[0m \u001b[31m72.1 MB/s\u001b[0m eta \u001b[36m0:00:00\u001b[0m\n",
      "\u001b[2K   \u001b[90m━━━━━━━━━━━━━━━━━━━━━━━━━━━━━━━━━━━━━━━━\u001b[0m \u001b[32m101.6/101.6 kB\u001b[0m \u001b[31m4.5 MB/s\u001b[0m eta \u001b[36m0:00:00\u001b[0m\n",
      "\u001b[2K   \u001b[90m━━━━━━━━━━━━━━━━━━━━━━━━━━━━━━━━━━━━━━━━\u001b[0m \u001b[32m16.5/16.5 MB\u001b[0m \u001b[31m93.9 MB/s\u001b[0m eta \u001b[36m0:00:00\u001b[0m:00:01\u001b[0m00:01\u001b[0m\n",
      "\u001b[2K   \u001b[90m━━━━━━━━━━━━━━━━━━━━━━━━━━━━━━━━━━━━━━━━\u001b[0m \u001b[32m65.6/65.6 kB\u001b[0m \u001b[31m4.3 MB/s\u001b[0m eta \u001b[36m0:00:00\u001b[0m\n",
      "\u001b[2K   \u001b[90m━━━━━━━━━━━━━━━━━━━━━━━━━━━━━━━━━━━━━━━━\u001b[0m \u001b[32m72.5/72.5 kB\u001b[0m \u001b[31m4.8 MB/s\u001b[0m eta \u001b[36m0:00:00\u001b[0m\n",
      "\u001b[2K   \u001b[90m━━━━━━━━━━━━━━━━━━━━━━━━━━━━━━━━━━━━━━━━\u001b[0m \u001b[32m119.4/119.4 kB\u001b[0m \u001b[31m8.4 MB/s\u001b[0m eta \u001b[36m0:00:00\u001b[0m\n",
      "\u001b[2K   \u001b[90m━━━━━━━━━━━━━━━━━━━━━━━━━━━━━━━━━━━━━━━━\u001b[0m \u001b[32m201.6/201.6 kB\u001b[0m \u001b[31m12.7 MB/s\u001b[0m eta \u001b[36m0:00:00\u001b[0m\n",
      "\u001b[2K   \u001b[90m━━━━━━━━━━━━━━━━━━━━━━━━━━━━━━━━━━━━━━━━\u001b[0m \u001b[32m105.4/105.4 kB\u001b[0m \u001b[31m7.4 MB/s\u001b[0m eta \u001b[36m0:00:00\u001b[0m\n",
      "\u001b[2K   \u001b[90m━━━━━━━━━━━━━━━━━━━━━━━━━━━━━━━━━━━━━━━━\u001b[0m \u001b[32m71.2/71.2 kB\u001b[0m \u001b[31m4.3 MB/s\u001b[0m eta \u001b[36m0:00:00\u001b[0m\n",
      "\u001b[2K   \u001b[90m━━━━━━━━━━━━━━━━━━━━━━━━━━━━━━━━━━━━━━━━\u001b[0m \u001b[32m459.8/459.8 kB\u001b[0m \u001b[31m17.9 MB/s\u001b[0m eta \u001b[36m0:00:00\u001b[0m\n",
      "\u001b[2K   \u001b[90m━━━━━━━━━━━━━━━━━━━━━━━━━━━━━━━━━━━━━━━━\u001b[0m \u001b[32m321.1/321.1 kB\u001b[0m \u001b[31m12.4 MB/s\u001b[0m eta \u001b[36m0:00:00\u001b[0m\n",
      "\u001b[2K   \u001b[90m━━━━━━━━━━━━━━━━━━━━━━━━━━━━━━━━━━━━━━━━\u001b[0m \u001b[32m4.0/4.0 MB\u001b[0m \u001b[31m83.4 MB/s\u001b[0m eta \u001b[36m0:00:00\u001b[0m:00:01\u001b[0m\n",
      "\u001b[2K   \u001b[90m━━━━━━━━━━━━━━━━━━━━━━━━━━━━━━━━━━━━━━━━\u001b[0m \u001b[32m453.1/453.1 kB\u001b[0m \u001b[31m28.9 MB/s\u001b[0m eta \u001b[36m0:00:00\u001b[0m\n",
      "\u001b[2K   \u001b[90m━━━━━━━━━━━━━━━━━━━━━━━━━━━━━━━━━━━━━━━━\u001b[0m \u001b[32m46.0/46.0 kB\u001b[0m \u001b[31m2.8 MB/s\u001b[0m eta \u001b[36m0:00:00\u001b[0m\n",
      "\u001b[2K   \u001b[90m━━━━━━━━━━━━━━━━━━━━━━━━━━━━━━━━━━━━━━━━\u001b[0m \u001b[32m86.8/86.8 kB\u001b[0m \u001b[31m6.7 MB/s\u001b[0m eta \u001b[36m0:00:00\u001b[0m\n",
      "\u001b[?25h  Building wheel for pypika (pyproject.toml) ... \u001b[?25l\u001b[?25hdone\n",
      "\u001b[31mERROR: pip's dependency resolver does not currently take into account all the packages that are installed. This behaviour is the source of the following dependency conflicts.\n",
      "bigframes 2.8.0 requires google-cloud-bigquery-storage<3.0.0,>=2.30.0, which is not installed.\n",
      "google-api-core 1.34.1 requires protobuf!=3.20.0,!=3.20.1,!=4.21.0,!=4.21.1,!=4.21.2,!=4.21.3,!=4.21.4,!=4.21.5,<4.0.0dev,>=3.19.5, but you have protobuf 6.31.1 which is incompatible.\n",
      "google-cloud-translate 3.12.1 requires protobuf!=3.20.0,!=3.20.1,!=4.21.0,!=4.21.1,!=4.21.2,!=4.21.3,!=4.21.4,!=4.21.5,<5.0.0dev,>=3.19.5, but you have protobuf 6.31.1 which is incompatible.\n",
      "pandas-gbq 0.29.1 requires google-api-core<3.0.0,>=2.10.2, but you have google-api-core 1.34.1 which is incompatible.\n",
      "google-ai-generativelanguage 0.6.15 requires protobuf!=4.21.0,!=4.21.1,!=4.21.2,!=4.21.3,!=4.21.4,!=4.21.5,<6.0.0dev,>=3.20.2, but you have protobuf 6.31.1 which is incompatible.\n",
      "google-cloud-storage 2.19.0 requires google-api-core<3.0.0dev,>=2.15.0, but you have google-api-core 1.34.1 which is incompatible.\n",
      "dataproc-spark-connect 0.7.5 requires google-api-core>=2.19, but you have google-api-core 1.34.1 which is incompatible.\n",
      "tensorflow 2.18.0 requires protobuf!=4.21.0,!=4.21.1,!=4.21.2,!=4.21.3,!=4.21.4,!=4.21.5,<6.0.0dev,>=3.20.3, but you have protobuf 6.31.1 which is incompatible.\n",
      "bigframes 2.8.0 requires google-cloud-bigquery[bqstorage,pandas]>=3.31.0, but you have google-cloud-bigquery 3.25.0 which is incompatible.\n",
      "bigframes 2.8.0 requires rich<14,>=12.4.4, but you have rich 14.0.0 which is incompatible.\u001b[0m\u001b[31m\n",
      "\u001b[0m"
     ]
    }
   ],
   "source": [
    "!pip install -q langchain_community\n",
    "!pip install -q chromadb"
   ]
  },
  {
   "cell_type": "code",
   "execution_count": 2,
   "metadata": {
    "_cell_guid": "b1076dfc-b9ad-4769-8c92-a6c4dae69d19",
    "_uuid": "8f2839f25d086af736a60e9eeb907d3b93b6e0e5",
    "execution": {
     "iopub.execute_input": "2025-07-23T07:44:09.066870Z",
     "iopub.status.busy": "2025-07-23T07:44:09.066224Z",
     "iopub.status.idle": "2025-07-23T07:44:09.999053Z",
     "shell.execute_reply": "2025-07-23T07:44:09.998344Z",
     "shell.execute_reply.started": "2025-07-23T07:44:09.066837Z"
    },
    "trusted": true
   },
   "outputs": [],
   "source": [
    "import pandas as pd\n",
    "from langchain_community.vectorstores import Chroma\n",
    "from langchain_community.embeddings import HuggingFaceEmbeddings\n",
    "import os"
   ]
  },
  {
   "cell_type": "markdown",
   "metadata": {},
   "source": [
    "# Step 1: Data Loading"
   ]
  },
  {
   "cell_type": "code",
   "execution_count": 3,
   "metadata": {
    "execution": {
     "iopub.execute_input": "2025-07-23T07:44:11.402455Z",
     "iopub.status.busy": "2025-07-23T07:44:11.401511Z",
     "iopub.status.idle": "2025-07-23T07:44:12.113680Z",
     "shell.execute_reply": "2025-07-23T07:44:12.112869Z",
     "shell.execute_reply.started": "2025-07-23T07:44:11.402422Z"
    },
    "trusted": true
   },
   "outputs": [
    {
     "name": "stderr",
     "output_type": "stream",
     "text": [
      "/usr/local/lib/python3.11/dist-packages/pandas/io/formats/format.py:1458: RuntimeWarning: invalid value encountered in greater\n",
      "  has_large_values = (abs_vals > 1e6).any()\n",
      "/usr/local/lib/python3.11/dist-packages/pandas/io/formats/format.py:1459: RuntimeWarning: invalid value encountered in less\n",
      "  has_small_values = ((abs_vals < 10 ** (-self.digits)) & (abs_vals > 0)).any()\n",
      "/usr/local/lib/python3.11/dist-packages/pandas/io/formats/format.py:1459: RuntimeWarning: invalid value encountered in greater\n",
      "  has_small_values = ((abs_vals < 10 ** (-self.digits)) & (abs_vals > 0)).any()\n"
     ]
    },
    {
     "data": {
      "text/html": [
       "<div>\n",
       "<style scoped>\n",
       "    .dataframe tbody tr th:only-of-type {\n",
       "        vertical-align: middle;\n",
       "    }\n",
       "\n",
       "    .dataframe tbody tr th {\n",
       "        vertical-align: top;\n",
       "    }\n",
       "\n",
       "    .dataframe thead th {\n",
       "        text-align: right;\n",
       "    }\n",
       "</style>\n",
       "<table border=\"1\" class=\"dataframe\">\n",
       "  <thead>\n",
       "    <tr style=\"text-align: right;\">\n",
       "      <th></th>\n",
       "      <th>القطاع Segment</th>\n",
       "      <th>رقم القطاع الرئيسي\\nSegment No</th>\n",
       "      <th>اسم القطاع الرئيسي(عربي)\\nSegment Title (Arabic)</th>\n",
       "      <th>اسم القطاع الرئيسي(إنجليزي)\\nSegment Title (English)</th>\n",
       "      <th>الرمز في منصة اعتماد\\nEtimad Code</th>\n",
       "      <th>اسم المنتج (عربي)\\nCommodity Title (Arabic)</th>\n",
       "      <th>اسم المنتج (انجليزي)\\nCommodity Title (English)</th>\n",
       "      <th>وصف المنتج (عربي)\\nCommodity Definition (Arabic)</th>\n",
       "      <th>وصف المنتج (انجليزي)\\nCommodity Definition (English)</th>\n",
       "      <th>السقف السعري\\nPrice Ceiling</th>\n",
       "      <th>تاريخ التطبيق\\nEffective Date</th>\n",
       "      <th>الحد الأدنى لخط الأساس لمصنع المنتج\\nManufacturer Local Content Minimum Baseline</th>\n",
       "    </tr>\n",
       "  </thead>\n",
       "  <tbody>\n",
       "    <tr>\n",
       "      <th>0</th>\n",
       "      <td>البناء والتشييد</td>\n",
       "      <td>3.0</td>\n",
       "      <td>الخرسانة</td>\n",
       "      <td>CONCRETE</td>\n",
       "      <td>2001</td>\n",
       "      <td>مواد تسليح الخرسانة</td>\n",
       "      <td>Concrete Reinforcement Materials</td>\n",
       "      <td>يتم تعريف هذا المنتج على أنه: مواد تسليح لتعزي...</td>\n",
       "      <td>This product is defined as : Reinforcement to ...</td>\n",
       "      <td>0.3</td>\n",
       "      <td>2019-12-09</td>\n",
       "      <td>يشترط وجود شهادة المحتوى المحلي للمصنع</td>\n",
       "    </tr>\n",
       "    <tr>\n",
       "      <th>1</th>\n",
       "      <td>NaN</td>\n",
       "      <td>NaN</td>\n",
       "      <td>NaN</td>\n",
       "      <td>NaN</td>\n",
       "      <td>2002</td>\n",
       "      <td>خرسانة مصبوبة في الموقع</td>\n",
       "      <td>Cast-in-Place Concrete</td>\n",
       "      <td>يتم تعريف هذا المنتج على أنه:  تقنية بناء المب...</td>\n",
       "      <td>This product is defined as :  a technology of ...</td>\n",
       "      <td>0.15</td>\n",
       "      <td>2019-12-09</td>\n",
       "      <td>يشترط وجود  شهادة المحتوى المحلي للمصنع</td>\n",
       "    </tr>\n",
       "    <tr>\n",
       "      <th>2</th>\n",
       "      <td>NaN</td>\n",
       "      <td>NaN</td>\n",
       "      <td>NaN</td>\n",
       "      <td>NaN</td>\n",
       "      <td>2003</td>\n",
       "      <td>الخرسانة مسبقة الصب</td>\n",
       "      <td>Precast Concrete</td>\n",
       "      <td>يتم تعريف هذا المنتج على أنه: منتجات الخرسانة ...</td>\n",
       "      <td>This product is defined as : Construction prod...</td>\n",
       "      <td>0.15</td>\n",
       "      <td>2019-12-09</td>\n",
       "      <td>يشترط وجود  شهادة المحتوى المحلي للمصنع</td>\n",
       "    </tr>\n",
       "    <tr>\n",
       "      <th>3</th>\n",
       "      <td>NaN</td>\n",
       "      <td>NaN</td>\n",
       "      <td>NaN</td>\n",
       "      <td>NaN</td>\n",
       "      <td>2004</td>\n",
       "      <td>الخرسانة الحجمية العادية</td>\n",
       "      <td>Mass Concrete</td>\n",
       "      <td>يتم تعريف هذا المنتج على أنه: أي حجم من الخرسا...</td>\n",
       "      <td>This product is defined as: Large volume place...</td>\n",
       "      <td>0.15</td>\n",
       "      <td>2019-12-09</td>\n",
       "      <td>يشترط وجود  شهادة المحتوى المحلي للمصنع</td>\n",
       "    </tr>\n",
       "    <tr>\n",
       "      <th>4</th>\n",
       "      <td>NaN</td>\n",
       "      <td>NaN</td>\n",
       "      <td>NaN</td>\n",
       "      <td>NaN</td>\n",
       "      <td>2005</td>\n",
       "      <td>الخرسانة المسلحة بالألياف الزجاجية</td>\n",
       "      <td>Glass Fiber Reinforced Concrete (GRC)</td>\n",
       "      <td>يتم تعريف هذا المنتج على أنه: ألواح خرسانية مع...</td>\n",
       "      <td>This product defined as : Panels are for decor...</td>\n",
       "      <td>0.25</td>\n",
       "      <td>2019-12-09</td>\n",
       "      <td>يشترط وجود  شهادة المحتوى المحلي للمصنع</td>\n",
       "    </tr>\n",
       "  </tbody>\n",
       "</table>\n",
       "</div>"
      ],
      "text/plain": [
       "   القطاع Segment   رقم القطاع الرئيسي\\nSegment No  \\\n",
       "0  البناء والتشييد                             3.0   \n",
       "1              NaN                             NaN   \n",
       "2              NaN                             NaN   \n",
       "3              NaN                             NaN   \n",
       "4              NaN                             NaN   \n",
       "\n",
       "  اسم القطاع الرئيسي(عربي)\\nSegment Title (Arabic)  \\\n",
       "0                                        الخرسانة    \n",
       "1                                              NaN   \n",
       "2                                              NaN   \n",
       "3                                              NaN   \n",
       "4                                              NaN   \n",
       "\n",
       "  اسم القطاع الرئيسي(إنجليزي)\\nSegment Title (English)  \\\n",
       "0                                          CONCRETE      \n",
       "1                                                NaN     \n",
       "2                                                NaN     \n",
       "3                                                NaN     \n",
       "4                                                NaN     \n",
       "\n",
       "   الرمز في منصة اعتماد\\nEtimad Code  \\\n",
       "0                               2001   \n",
       "1                               2002   \n",
       "2                               2003   \n",
       "3                               2004   \n",
       "4                               2005   \n",
       "\n",
       "  اسم المنتج (عربي)\\nCommodity Title (Arabic)  \\\n",
       "0                        مواد تسليح الخرسانة    \n",
       "1                    خرسانة مصبوبة في الموقع    \n",
       "2                        الخرسانة مسبقة الصب    \n",
       "3                    الخرسانة الحجمية العادية   \n",
       "4         الخرسانة المسلحة بالألياف الزجاجية    \n",
       "\n",
       "  اسم المنتج (انجليزي)\\nCommodity Title (English)  \\\n",
       "0                Concrete Reinforcement Materials   \n",
       "1                         Cast-in-Place Concrete    \n",
       "2                               Precast Concrete    \n",
       "3                                  Mass Concrete    \n",
       "4           Glass Fiber Reinforced Concrete (GRC)   \n",
       "\n",
       "    وصف المنتج (عربي)\\nCommodity Definition (Arabic)  \\\n",
       "0  يتم تعريف هذا المنتج على أنه: مواد تسليح لتعزي...   \n",
       "1  يتم تعريف هذا المنتج على أنه:  تقنية بناء المب...   \n",
       "2  يتم تعريف هذا المنتج على أنه: منتجات الخرسانة ...   \n",
       "3  يتم تعريف هذا المنتج على أنه: أي حجم من الخرسا...   \n",
       "4  يتم تعريف هذا المنتج على أنه: ألواح خرسانية مع...   \n",
       "\n",
       "  وصف المنتج (انجليزي)\\nCommodity Definition (English)  \\\n",
       "0  This product is defined as : Reinforcement to ...     \n",
       "1  This product is defined as :  a technology of ...     \n",
       "2  This product is defined as : Construction prod...     \n",
       "3  This product is defined as: Large volume place...     \n",
       "4  This product defined as : Panels are for decor...     \n",
       "\n",
       "  السقف السعري\\nPrice Ceiling تاريخ التطبيق\\nEffective Date  \\\n",
       "0                         0.3                    2019-12-09   \n",
       "1                        0.15                    2019-12-09   \n",
       "2                        0.15                    2019-12-09   \n",
       "3                        0.15                    2019-12-09   \n",
       "4                        0.25                    2019-12-09   \n",
       "\n",
       "  الحد الأدنى لخط الأساس لمصنع المنتج\\nManufacturer Local Content Minimum Baseline  \n",
       "0             يشترط وجود شهادة المحتوى المحلي للمصنع                                \n",
       "1            يشترط وجود  شهادة المحتوى المحلي للمصنع                                \n",
       "2            يشترط وجود  شهادة المحتوى المحلي للمصنع                                \n",
       "3            يشترط وجود  شهادة المحتوى المحلي للمصنع                                \n",
       "4            يشترط وجود  شهادة المحتوى المحلي للمصنع                                "
      ]
     },
     "execution_count": 3,
     "metadata": {},
     "output_type": "execute_result"
    }
   ],
   "source": [
    "excel_path=\"/kaggle/input/contentcertificate/2025.xlsx\"\n",
    "\n",
    "df = pd.read_excel(excel_path)\n",
    "\n",
    "df.head()"
   ]
  },
  {
   "cell_type": "markdown",
   "metadata": {},
   "source": [
    "# Step 2: Data Preprocessing"
   ]
  },
  {
   "cell_type": "code",
   "execution_count": 4,
   "metadata": {
    "execution": {
     "iopub.execute_input": "2025-07-23T07:44:22.650846Z",
     "iopub.status.busy": "2025-07-23T07:44:22.650147Z",
     "iopub.status.idle": "2025-07-23T07:44:22.655438Z",
     "shell.execute_reply": "2025-07-23T07:44:22.654831Z",
     "shell.execute_reply.started": "2025-07-23T07:44:22.650817Z"
    },
    "trusted": true
   },
   "outputs": [
    {
     "data": {
      "text/plain": [
       "Index([' القطاع Segment ', 'رقم القطاع الرئيسي\\nSegment No',\n",
       "       'اسم القطاع الرئيسي(عربي)\\nSegment Title (Arabic)',\n",
       "       'اسم القطاع الرئيسي(إنجليزي)\\nSegment Title (English)',\n",
       "       'الرمز في منصة اعتماد\\nEtimad Code',\n",
       "       'اسم المنتج (عربي)\\nCommodity Title (Arabic)',\n",
       "       'اسم المنتج (انجليزي)\\nCommodity Title (English)',\n",
       "       'وصف المنتج (عربي)\\nCommodity Definition (Arabic)',\n",
       "       'وصف المنتج (انجليزي)\\nCommodity Definition (English)',\n",
       "       'السقف السعري\\nPrice Ceiling', 'تاريخ التطبيق\\nEffective Date',\n",
       "       'الحد الأدنى لخط الأساس لمصنع المنتج\\nManufacturer Local Content Minimum Baseline'],\n",
       "      dtype='object')"
      ]
     },
     "execution_count": 4,
     "metadata": {},
     "output_type": "execute_result"
    }
   ],
   "source": [
    "df.columns"
   ]
  },
  {
   "cell_type": "code",
   "execution_count": 5,
   "metadata": {
    "execution": {
     "iopub.execute_input": "2025-07-23T07:44:24.582685Z",
     "iopub.status.busy": "2025-07-23T07:44:24.582097Z",
     "iopub.status.idle": "2025-07-23T07:44:24.607964Z",
     "shell.execute_reply": "2025-07-23T07:44:24.607241Z",
     "shell.execute_reply.started": "2025-07-23T07:44:24.582659Z"
    },
    "trusted": true
   },
   "outputs": [
    {
     "data": {
      "text/html": [
       "<div>\n",
       "<style scoped>\n",
       "    .dataframe tbody tr th:only-of-type {\n",
       "        vertical-align: middle;\n",
       "    }\n",
       "\n",
       "    .dataframe tbody tr th {\n",
       "        vertical-align: top;\n",
       "    }\n",
       "\n",
       "    .dataframe thead th {\n",
       "        text-align: right;\n",
       "    }\n",
       "</style>\n",
       "<table border=\"1\" class=\"dataframe\">\n",
       "  <thead>\n",
       "    <tr style=\"text-align: right;\">\n",
       "      <th></th>\n",
       "      <th>القطاع Segment</th>\n",
       "      <th>رقم القطاع الرئيسي\\nSegment No</th>\n",
       "      <th>اسم القطاع الرئيسي(عربي)\\nSegment Title (Arabic)</th>\n",
       "      <th>اسم القطاع الرئيسي(إنجليزي)\\nSegment Title (English)</th>\n",
       "      <th>الرمز في منصة اعتماد\\nEtimad Code</th>\n",
       "      <th>اسم المنتج (عربي)\\nCommodity Title (Arabic)</th>\n",
       "      <th>اسم المنتج (انجليزي)\\nCommodity Title (English)</th>\n",
       "      <th>وصف المنتج (عربي)\\nCommodity Definition (Arabic)</th>\n",
       "      <th>وصف المنتج (انجليزي)\\nCommodity Definition (English)</th>\n",
       "      <th>السقف السعري\\nPrice Ceiling</th>\n",
       "      <th>تاريخ التطبيق\\nEffective Date</th>\n",
       "      <th>الحد الأدنى لخط الأساس لمصنع المنتج\\nManufacturer Local Content Minimum Baseline</th>\n",
       "    </tr>\n",
       "  </thead>\n",
       "  <tbody>\n",
       "    <tr>\n",
       "      <th>0</th>\n",
       "      <td>البناء والتشييد</td>\n",
       "      <td>3.0</td>\n",
       "      <td>الخرسانة</td>\n",
       "      <td>CONCRETE</td>\n",
       "      <td>2001</td>\n",
       "      <td>مواد تسليح الخرسانة</td>\n",
       "      <td>Concrete Reinforcement Materials</td>\n",
       "      <td>يتم تعريف هذا المنتج على أنه: مواد تسليح لتعزي...</td>\n",
       "      <td>This product is defined as : Reinforcement to ...</td>\n",
       "      <td>0.3</td>\n",
       "      <td>2019-12-09</td>\n",
       "      <td>يشترط وجود شهادة المحتوى المحلي للمصنع</td>\n",
       "    </tr>\n",
       "    <tr>\n",
       "      <th>1</th>\n",
       "      <td>البناء والتشييد</td>\n",
       "      <td>3.0</td>\n",
       "      <td>الخرسانة</td>\n",
       "      <td>CONCRETE</td>\n",
       "      <td>2002</td>\n",
       "      <td>خرسانة مصبوبة في الموقع</td>\n",
       "      <td>Cast-in-Place Concrete</td>\n",
       "      <td>يتم تعريف هذا المنتج على أنه:  تقنية بناء المب...</td>\n",
       "      <td>This product is defined as :  a technology of ...</td>\n",
       "      <td>0.15</td>\n",
       "      <td>2019-12-09</td>\n",
       "      <td>يشترط وجود  شهادة المحتوى المحلي للمصنع</td>\n",
       "    </tr>\n",
       "    <tr>\n",
       "      <th>2</th>\n",
       "      <td>البناء والتشييد</td>\n",
       "      <td>3.0</td>\n",
       "      <td>الخرسانة</td>\n",
       "      <td>CONCRETE</td>\n",
       "      <td>2003</td>\n",
       "      <td>الخرسانة مسبقة الصب</td>\n",
       "      <td>Precast Concrete</td>\n",
       "      <td>يتم تعريف هذا المنتج على أنه: منتجات الخرسانة ...</td>\n",
       "      <td>This product is defined as : Construction prod...</td>\n",
       "      <td>0.15</td>\n",
       "      <td>2019-12-09</td>\n",
       "      <td>يشترط وجود  شهادة المحتوى المحلي للمصنع</td>\n",
       "    </tr>\n",
       "    <tr>\n",
       "      <th>3</th>\n",
       "      <td>البناء والتشييد</td>\n",
       "      <td>3.0</td>\n",
       "      <td>الخرسانة</td>\n",
       "      <td>CONCRETE</td>\n",
       "      <td>2004</td>\n",
       "      <td>الخرسانة الحجمية العادية</td>\n",
       "      <td>Mass Concrete</td>\n",
       "      <td>يتم تعريف هذا المنتج على أنه: أي حجم من الخرسا...</td>\n",
       "      <td>This product is defined as: Large volume place...</td>\n",
       "      <td>0.15</td>\n",
       "      <td>2019-12-09</td>\n",
       "      <td>يشترط وجود  شهادة المحتوى المحلي للمصنع</td>\n",
       "    </tr>\n",
       "    <tr>\n",
       "      <th>4</th>\n",
       "      <td>البناء والتشييد</td>\n",
       "      <td>3.0</td>\n",
       "      <td>الخرسانة</td>\n",
       "      <td>CONCRETE</td>\n",
       "      <td>2005</td>\n",
       "      <td>الخرسانة المسلحة بالألياف الزجاجية</td>\n",
       "      <td>Glass Fiber Reinforced Concrete (GRC)</td>\n",
       "      <td>يتم تعريف هذا المنتج على أنه: ألواح خرسانية مع...</td>\n",
       "      <td>This product defined as : Panels are for decor...</td>\n",
       "      <td>0.25</td>\n",
       "      <td>2019-12-09</td>\n",
       "      <td>يشترط وجود  شهادة المحتوى المحلي للمصنع</td>\n",
       "    </tr>\n",
       "    <tr>\n",
       "      <th>5</th>\n",
       "      <td>البناء والتشييد</td>\n",
       "      <td>4.0</td>\n",
       "      <td>مواد أعمال البناء</td>\n",
       "      <td>MASONRY</td>\n",
       "      <td>2006</td>\n",
       "      <td>أعمال البناء الحراري: مواد البناء الحرارية</td>\n",
       "      <td>Refractory Masonry: Refractory Masonry Materials</td>\n",
       "      <td>يتم تعريف هذا المنتج على أنه: مواد البناء الحر...</td>\n",
       "      <td>This product is defined as : Refractory masonr...</td>\n",
       "      <td>0.15</td>\n",
       "      <td>2019-12-09</td>\n",
       "      <td>يشترط وجود  شهادة المحتوى المحلي للمصنع</td>\n",
       "    </tr>\n",
       "    <tr>\n",
       "      <th>6</th>\n",
       "      <td>البناء والتشييد</td>\n",
       "      <td>4.0</td>\n",
       "      <td>مواد أعمال البناء</td>\n",
       "      <td>MASONRY</td>\n",
       "      <td>2007</td>\n",
       "      <td>وحدات البناء والطوب</td>\n",
       "      <td>Masonry and Blocks Unit</td>\n",
       "      <td>يتم تعريف هذا المنتج على أنه: وحدات البناء ، ا...</td>\n",
       "      <td>This product is defined as: Masonry unit const...</td>\n",
       "      <td>0.15</td>\n",
       "      <td>2019-12-09</td>\n",
       "      <td>يشترط وجود  شهادة المحتوى المحلي للمصنع</td>\n",
       "    </tr>\n",
       "    <tr>\n",
       "      <th>7</th>\n",
       "      <td>البناء والتشييد</td>\n",
       "      <td>4.0</td>\n",
       "      <td>مواد أعمال البناء</td>\n",
       "      <td>MASONRY</td>\n",
       "      <td>2008</td>\n",
       "      <td>أعمال البناء المقاوم للتآكل: مواد أعمال البناء...</td>\n",
       "      <td>Corrosion-Resistant Masonry: Corrosion-Resista...</td>\n",
       "      <td>يتم تعريف هذا المنتج على أنه: مواد أعمال البنا...</td>\n",
       "      <td>This product is defined as : Masonry construct...</td>\n",
       "      <td>0.15</td>\n",
       "      <td>2019-12-09</td>\n",
       "      <td>يشترط وجود  شهادة المحتوى المحلي للمصنع</td>\n",
       "    </tr>\n",
       "    <tr>\n",
       "      <th>8</th>\n",
       "      <td>البناء والتشييد</td>\n",
       "      <td>4.0</td>\n",
       "      <td>مواد أعمال البناء</td>\n",
       "      <td>MASONRY</td>\n",
       "      <td>2009</td>\n",
       "      <td>أعمال البناء المصنعة: مواد البناء المصنعة</td>\n",
       "      <td>Manufactured Masonry: Manufactured Masonry Mat...</td>\n",
       "      <td>يتم تعريف هذا المنتج على أنه: وحدات البناء الس...</td>\n",
       "      <td>This product is defined as : Hydraulically com...</td>\n",
       "      <td>0.15</td>\n",
       "      <td>2019-12-09</td>\n",
       "      <td>يشترط وجود  شهادة المحتوى المحلي للمصنع</td>\n",
       "    </tr>\n",
       "    <tr>\n",
       "      <th>9</th>\n",
       "      <td>البناء والتشييد</td>\n",
       "      <td>5.0</td>\n",
       "      <td>المعادن</td>\n",
       "      <td>METALS</td>\n",
       "      <td>2010</td>\n",
       "      <td>الإطارات المعدنية المسحوبة على البارد: مواد تأ...</td>\n",
       "      <td>Cold-Formed Metal Framing: Cold-Formed Metal F...</td>\n",
       "      <td>يتم تعريف هذا المنتج على أنه: عنصر  معدني هيكل...</td>\n",
       "      <td>This product is defined as : Structured metal ...</td>\n",
       "      <td>0.3</td>\n",
       "      <td>2019-12-09</td>\n",
       "      <td>يشترط وجود  شهادة المحتوى المحلي للمصنع</td>\n",
       "    </tr>\n",
       "  </tbody>\n",
       "</table>\n",
       "</div>"
      ],
      "text/plain": [
       "   القطاع Segment   رقم القطاع الرئيسي\\nSegment No  \\\n",
       "0  البناء والتشييد                             3.0   \n",
       "1  البناء والتشييد                             3.0   \n",
       "2  البناء والتشييد                             3.0   \n",
       "3  البناء والتشييد                             3.0   \n",
       "4  البناء والتشييد                             3.0   \n",
       "5  البناء والتشييد                             4.0   \n",
       "6  البناء والتشييد                             4.0   \n",
       "7  البناء والتشييد                             4.0   \n",
       "8  البناء والتشييد                             4.0   \n",
       "9  البناء والتشييد                             5.0   \n",
       "\n",
       "  اسم القطاع الرئيسي(عربي)\\nSegment Title (Arabic)  \\\n",
       "0                                        الخرسانة    \n",
       "1                                        الخرسانة    \n",
       "2                                        الخرسانة    \n",
       "3                                        الخرسانة    \n",
       "4                                        الخرسانة    \n",
       "5                               مواد أعمال البناء    \n",
       "6                               مواد أعمال البناء    \n",
       "7                               مواد أعمال البناء    \n",
       "8                               مواد أعمال البناء    \n",
       "9                                         المعادن    \n",
       "\n",
       "  اسم القطاع الرئيسي(إنجليزي)\\nSegment Title (English)  \\\n",
       "0                                          CONCRETE      \n",
       "1                                          CONCRETE      \n",
       "2                                          CONCRETE      \n",
       "3                                          CONCRETE      \n",
       "4                                          CONCRETE      \n",
       "5                                           MASONRY      \n",
       "6                                           MASONRY      \n",
       "7                                           MASONRY      \n",
       "8                                           MASONRY      \n",
       "9                                            METALS      \n",
       "\n",
       "   الرمز في منصة اعتماد\\nEtimad Code  \\\n",
       "0                               2001   \n",
       "1                               2002   \n",
       "2                               2003   \n",
       "3                               2004   \n",
       "4                               2005   \n",
       "5                               2006   \n",
       "6                               2007   \n",
       "7                               2008   \n",
       "8                               2009   \n",
       "9                               2010   \n",
       "\n",
       "         اسم المنتج (عربي)\\nCommodity Title (Arabic)  \\\n",
       "0                               مواد تسليح الخرسانة    \n",
       "1                           خرسانة مصبوبة في الموقع    \n",
       "2                               الخرسانة مسبقة الصب    \n",
       "3                           الخرسانة الحجمية العادية   \n",
       "4                الخرسانة المسلحة بالألياف الزجاجية    \n",
       "5        أعمال البناء الحراري: مواد البناء الحرارية    \n",
       "6                               وحدات البناء والطوب    \n",
       "7  أعمال البناء المقاوم للتآكل: مواد أعمال البناء...   \n",
       "8         أعمال البناء المصنعة: مواد البناء المصنعة    \n",
       "9  الإطارات المعدنية المسحوبة على البارد: مواد تأ...   \n",
       "\n",
       "     اسم المنتج (انجليزي)\\nCommodity Title (English)  \\\n",
       "0                   Concrete Reinforcement Materials   \n",
       "1                            Cast-in-Place Concrete    \n",
       "2                                  Precast Concrete    \n",
       "3                                     Mass Concrete    \n",
       "4              Glass Fiber Reinforced Concrete (GRC)   \n",
       "5   Refractory Masonry: Refractory Masonry Materials   \n",
       "6                            Masonry and Blocks Unit   \n",
       "7  Corrosion-Resistant Masonry: Corrosion-Resista...   \n",
       "8  Manufactured Masonry: Manufactured Masonry Mat...   \n",
       "9  Cold-Formed Metal Framing: Cold-Formed Metal F...   \n",
       "\n",
       "    وصف المنتج (عربي)\\nCommodity Definition (Arabic)  \\\n",
       "0  يتم تعريف هذا المنتج على أنه: مواد تسليح لتعزي...   \n",
       "1  يتم تعريف هذا المنتج على أنه:  تقنية بناء المب...   \n",
       "2  يتم تعريف هذا المنتج على أنه: منتجات الخرسانة ...   \n",
       "3  يتم تعريف هذا المنتج على أنه: أي حجم من الخرسا...   \n",
       "4  يتم تعريف هذا المنتج على أنه: ألواح خرسانية مع...   \n",
       "5  يتم تعريف هذا المنتج على أنه: مواد البناء الحر...   \n",
       "6  يتم تعريف هذا المنتج على أنه: وحدات البناء ، ا...   \n",
       "7  يتم تعريف هذا المنتج على أنه: مواد أعمال البنا...   \n",
       "8  يتم تعريف هذا المنتج على أنه: وحدات البناء الس...   \n",
       "9  يتم تعريف هذا المنتج على أنه: عنصر  معدني هيكل...   \n",
       "\n",
       "  وصف المنتج (انجليزي)\\nCommodity Definition (English)  \\\n",
       "0  This product is defined as : Reinforcement to ...     \n",
       "1  This product is defined as :  a technology of ...     \n",
       "2  This product is defined as : Construction prod...     \n",
       "3  This product is defined as: Large volume place...     \n",
       "4  This product defined as : Panels are for decor...     \n",
       "5  This product is defined as : Refractory masonr...     \n",
       "6  This product is defined as: Masonry unit const...     \n",
       "7  This product is defined as : Masonry construct...     \n",
       "8  This product is defined as : Hydraulically com...     \n",
       "9  This product is defined as : Structured metal ...     \n",
       "\n",
       "  السقف السعري\\nPrice Ceiling تاريخ التطبيق\\nEffective Date  \\\n",
       "0                         0.3                    2019-12-09   \n",
       "1                        0.15                    2019-12-09   \n",
       "2                        0.15                    2019-12-09   \n",
       "3                        0.15                    2019-12-09   \n",
       "4                        0.25                    2019-12-09   \n",
       "5                        0.15                    2019-12-09   \n",
       "6                        0.15                    2019-12-09   \n",
       "7                        0.15                    2019-12-09   \n",
       "8                        0.15                    2019-12-09   \n",
       "9                         0.3                    2019-12-09   \n",
       "\n",
       "  الحد الأدنى لخط الأساس لمصنع المنتج\\nManufacturer Local Content Minimum Baseline  \n",
       "0             يشترط وجود شهادة المحتوى المحلي للمصنع                                \n",
       "1            يشترط وجود  شهادة المحتوى المحلي للمصنع                                \n",
       "2            يشترط وجود  شهادة المحتوى المحلي للمصنع                                \n",
       "3            يشترط وجود  شهادة المحتوى المحلي للمصنع                                \n",
       "4            يشترط وجود  شهادة المحتوى المحلي للمصنع                                \n",
       "5            يشترط وجود  شهادة المحتوى المحلي للمصنع                                \n",
       "6            يشترط وجود  شهادة المحتوى المحلي للمصنع                                \n",
       "7            يشترط وجود  شهادة المحتوى المحلي للمصنع                                \n",
       "8            يشترط وجود  شهادة المحتوى المحلي للمصنع                                \n",
       "9            يشترط وجود  شهادة المحتوى المحلي للمصنع                                "
      ]
     },
     "execution_count": 5,
     "metadata": {},
     "output_type": "execute_result"
    }
   ],
   "source": [
    "# Columns to fill down\n",
    "columns_to_fill = list(df.columns[:4])\n",
    "\n",
    "# Apply forward fill (ffill) to propagate the values downwards\n",
    "df[columns_to_fill] = df[columns_to_fill].ffill()\n",
    "\n",
    "# Display the head to verify\n",
    "df.head(10)"
   ]
  },
  {
   "cell_type": "code",
   "execution_count": 6,
   "metadata": {
    "execution": {
     "iopub.execute_input": "2025-07-23T07:44:28.678119Z",
     "iopub.status.busy": "2025-07-23T07:44:28.677411Z",
     "iopub.status.idle": "2025-07-23T07:44:28.683002Z",
     "shell.execute_reply": "2025-07-23T07:44:28.682291Z",
     "shell.execute_reply.started": "2025-07-23T07:44:28.678095Z"
    },
    "trusted": true
   },
   "outputs": [
    {
     "data": {
      "text/plain": [
       "Index(['اسم المنتج (عربي)\\nCommodity Title (Arabic)',\n",
       "       'اسم المنتج (انجليزي)\\nCommodity Title (English)',\n",
       "       'الحد الأدنى لخط الأساس لمصنع المنتج\\nManufacturer Local Content Minimum Baseline'],\n",
       "      dtype='object')"
      ]
     },
     "execution_count": 6,
     "metadata": {},
     "output_type": "execute_result"
    }
   ],
   "source": [
    "df.columns[[5,6,-1]]"
   ]
  },
  {
   "cell_type": "code",
   "execution_count": 16,
   "metadata": {
    "execution": {
     "iopub.execute_input": "2025-07-23T08:40:30.765738Z",
     "iopub.status.busy": "2025-07-23T08:40:30.765465Z",
     "iopub.status.idle": "2025-07-23T08:40:30.771334Z",
     "shell.execute_reply": "2025-07-23T08:40:30.770548Z",
     "shell.execute_reply.started": "2025-07-23T08:40:30.765718Z"
    },
    "trusted": true
   },
   "outputs": [],
   "source": [
    "def load_and_prepare_data(df: pd.DataFrame) -> list[dict]:\n",
    "\n",
    "    documents_ar = []\n",
    "    documents_en = []\n",
    "\n",
    "    col_metadata = df.columns[-1] # Metadata column (Manufacturer Local Content Minimum Baseline)\n",
    "    col_ar, col_en = df.columns[5], df.columns[6]\n",
    "    \n",
    "    for index, row in df.iterrows():\n",
    "\n",
    "        value_metadata = row.get(col_metadata)\n",
    "        metadata = {col_metadata: None if pd.isna(value_metadata) else value_metadata}\n",
    "        \n",
    "        value_ar = row.get(col_ar, '')\n",
    "        value_en = row.get(col_en, '')\n",
    "        page_content_ar = str(value_ar).strip()\n",
    "        page_content_en = str(value_en).strip()\n",
    "        \n",
    "        documents_ar.append({\"page_content\": page_content_ar, \"metadata\": metadata})\n",
    "        documents_en.append({\"page_content\": page_content_en, \"metadata\": metadata})\n",
    "\n",
    "    return documents_ar, documents_en"
   ]
  },
  {
   "cell_type": "markdown",
   "metadata": {},
   "source": [
    "# Step 3: Prepare documents for the vector store"
   ]
  },
  {
   "cell_type": "code",
   "execution_count": 25,
   "metadata": {
    "execution": {
     "iopub.execute_input": "2025-07-23T08:45:50.931123Z",
     "iopub.status.busy": "2025-07-23T08:45:50.930843Z",
     "iopub.status.idle": "2025-07-23T08:45:50.997046Z",
     "shell.execute_reply": "2025-07-23T08:45:50.996449Z",
     "shell.execute_reply.started": "2025-07-23T08:45:50.931103Z"
    },
    "trusted": true
   },
   "outputs": [
    {
     "name": "stdout",
     "output_type": "stream",
     "text": [
      "Arabic has: #1444\n",
      "[{'page_content': 'مواد تسليح الخرسانة', 'metadata': {'الحد الأدنى لخط الأساس لمصنع المنتج\\nManufacturer Local Content Minimum Baseline': 'يشترط وجود شهادة المحتوى المحلي للمصنع'}}, {'page_content': 'خرسانة مصبوبة في الموقع', 'metadata': {'الحد الأدنى لخط الأساس لمصنع المنتج\\nManufacturer Local Content Minimum Baseline': 'يشترط وجود  شهادة المحتوى المحلي للمصنع'}}, {'page_content': 'الخرسانة مسبقة الصب', 'metadata': {'الحد الأدنى لخط الأساس لمصنع المنتج\\nManufacturer Local Content Minimum Baseline': 'يشترط وجود  شهادة المحتوى المحلي للمصنع'}}, {'page_content': 'الخرسانة الحجمية العادية', 'metadata': {'الحد الأدنى لخط الأساس لمصنع المنتج\\nManufacturer Local Content Minimum Baseline': 'يشترط وجود  شهادة المحتوى المحلي للمصنع'}}, {'page_content': 'الخرسانة المسلحة بالألياف الزجاجية', 'metadata': {'الحد الأدنى لخط الأساس لمصنع المنتج\\nManufacturer Local Content Minimum Baseline': 'يشترط وجود  شهادة المحتوى المحلي للمصنع'}}]\n",
      "\n",
      "\n",
      "English has: #1444\n",
      "[{'page_content': 'Concrete Reinforcement Materials', 'metadata': {'الحد الأدنى لخط الأساس لمصنع المنتج\\nManufacturer Local Content Minimum Baseline': 'يشترط وجود شهادة المحتوى المحلي للمصنع'}}, {'page_content': 'Cast-in-Place Concrete', 'metadata': {'الحد الأدنى لخط الأساس لمصنع المنتج\\nManufacturer Local Content Minimum Baseline': 'يشترط وجود  شهادة المحتوى المحلي للمصنع'}}, {'page_content': 'Precast Concrete', 'metadata': {'الحد الأدنى لخط الأساس لمصنع المنتج\\nManufacturer Local Content Minimum Baseline': 'يشترط وجود  شهادة المحتوى المحلي للمصنع'}}, {'page_content': 'Mass Concrete', 'metadata': {'الحد الأدنى لخط الأساس لمصنع المنتج\\nManufacturer Local Content Minimum Baseline': 'يشترط وجود  شهادة المحتوى المحلي للمصنع'}}, {'page_content': 'Glass Fiber Reinforced Concrete (GRC)', 'metadata': {'الحد الأدنى لخط الأساس لمصنع المنتج\\nManufacturer Local Content Minimum Baseline': 'يشترط وجود  شهادة المحتوى المحلي للمصنع'}}]\n",
      "\n",
      "\n"
     ]
    }
   ],
   "source": [
    "prepared_docs_ar, prepared_docs_en = load_and_prepare_data(df)\n",
    "print(f\"Arabic has: #{len(prepared_docs_ar)}\")\n",
    "print(prepared_docs_ar[:5], end = \"\\n\\n\\n\")\n",
    "\n",
    "print(f\"English has: #{len(prepared_docs_en)}\")\n",
    "print(prepared_docs_en[:5], end = \"\\n\\n\\n\")"
   ]
  },
  {
   "cell_type": "markdown",
   "metadata": {},
   "source": [
    "# Step 4: Initialize the vector store"
   ]
  },
  {
   "cell_type": "code",
   "execution_count": 27,
   "metadata": {
    "execution": {
     "iopub.execute_input": "2025-07-23T08:48:09.792609Z",
     "iopub.status.busy": "2025-07-23T08:48:09.791795Z",
     "iopub.status.idle": "2025-07-23T08:48:09.797793Z",
     "shell.execute_reply": "2025-07-23T08:48:09.797076Z",
     "shell.execute_reply.started": "2025-07-23T08:48:09.792582Z"
    },
    "trusted": true
   },
   "outputs": [],
   "source": [
    "def initialize_vector_store(documents: list[dict], DB_DIR):\n",
    "\n",
    "    # Initialize the embedding model\n",
    "    embeddings = HuggingFaceEmbeddings(model_name=\"sentence-transformers/paraphrase-multilingual-mpnet-base-v2\")\n",
    "\n",
    "    # Check if the vector store directory exists and contains data\n",
    "    # Note: ChromaDB's persistence check can be more robust, but this is a common starting point\n",
    "    if os.path.exists(DB_DIR) and os.path.isdir(DB_DIR) and len(os.listdir(DB_DIR)) > 0:\n",
    "        print(\"Loading existing vector store from disk.\")\n",
    "        vectordb = Chroma(persist_directory=DB_DIR, embedding_function=embeddings)\n",
    "    else:\n",
    "        print(\"Vector store not found or empty, creating and persisting new one.\")\n",
    "        \n",
    "        texts = [doc['page_content'] for doc in documents]\n",
    "        metadatas = [doc['metadata'] for doc in documents]\n",
    "        \n",
    "        vectordb = Chroma.from_texts(\n",
    "            texts=texts,\n",
    "            embedding=embeddings,\n",
    "            metadatas=metadatas,\n",
    "            persist_directory=DB_DIR\n",
    "        )\n",
    "        vectordb.persist() # Ensure the database is written to disk\n",
    "        print(\"Vector store created and persisted.\")\n",
    "        \n",
    "    return vectordb"
   ]
  },
  {
   "cell_type": "code",
   "execution_count": 28,
   "metadata": {
    "execution": {
     "iopub.execute_input": "2025-07-23T08:48:13.210863Z",
     "iopub.status.busy": "2025-07-23T08:48:13.210266Z",
     "iopub.status.idle": "2025-07-23T08:49:09.949587Z",
     "shell.execute_reply": "2025-07-23T08:49:09.948925Z",
     "shell.execute_reply.started": "2025-07-23T08:48:13.210842Z"
    },
    "trusted": true
   },
   "outputs": [
    {
     "name": "stderr",
     "output_type": "stream",
     "text": [
      "/tmp/ipykernel_36/3291284671.py:4: LangChainDeprecationWarning: The class `HuggingFaceEmbeddings` was deprecated in LangChain 0.2.2 and will be removed in 1.0. An updated version of the class exists in the :class:`~langchain-huggingface package and should be used instead. To use it run `pip install -U :class:`~langchain-huggingface` and import as `from :class:`~langchain_huggingface import HuggingFaceEmbeddings``.\n",
      "  embeddings = HuggingFaceEmbeddings(model_name=\"sentence-transformers/paraphrase-multilingual-mpnet-base-v2\")\n",
      "2025-07-23 08:48:26.548954: E external/local_xla/xla/stream_executor/cuda/cuda_fft.cc:477] Unable to register cuFFT factory: Attempting to register factory for plugin cuFFT when one has already been registered\n",
      "WARNING: All log messages before absl::InitializeLog() is called are written to STDERR\n",
      "E0000 00:00:1753260506.739486      36 cuda_dnn.cc:8310] Unable to register cuDNN factory: Attempting to register factory for plugin cuDNN when one has already been registered\n",
      "E0000 00:00:1753260506.792880      36 cuda_blas.cc:1418] Unable to register cuBLAS factory: Attempting to register factory for plugin cuBLAS when one has already been registered\n"
     ]
    },
    {
     "ename": "AttributeError",
     "evalue": "'MessageFactory' object has no attribute 'GetPrototype'",
     "output_type": "error",
     "traceback": [
      "\u001b[0;31m---------------------------------------------------------------------------\u001b[0m",
      "\u001b[0;31mAttributeError\u001b[0m                            Traceback (most recent call last)",
      "\u001b[0;31mAttributeError\u001b[0m: 'MessageFactory' object has no attribute 'GetPrototype'"
     ]
    },
    {
     "ename": "AttributeError",
     "evalue": "'MessageFactory' object has no attribute 'GetPrototype'",
     "output_type": "error",
     "traceback": [
      "\u001b[0;31m---------------------------------------------------------------------------\u001b[0m",
      "\u001b[0;31mAttributeError\u001b[0m                            Traceback (most recent call last)",
      "\u001b[0;31mAttributeError\u001b[0m: 'MessageFactory' object has no attribute 'GetPrototype'"
     ]
    },
    {
     "ename": "AttributeError",
     "evalue": "'MessageFactory' object has no attribute 'GetPrototype'",
     "output_type": "error",
     "traceback": [
      "\u001b[0;31m---------------------------------------------------------------------------\u001b[0m",
      "\u001b[0;31mAttributeError\u001b[0m                            Traceback (most recent call last)",
      "\u001b[0;31mAttributeError\u001b[0m: 'MessageFactory' object has no attribute 'GetPrototype'"
     ]
    },
    {
     "ename": "AttributeError",
     "evalue": "'MessageFactory' object has no attribute 'GetPrototype'",
     "output_type": "error",
     "traceback": [
      "\u001b[0;31m---------------------------------------------------------------------------\u001b[0m",
      "\u001b[0;31mAttributeError\u001b[0m                            Traceback (most recent call last)",
      "\u001b[0;31mAttributeError\u001b[0m: 'MessageFactory' object has no attribute 'GetPrototype'"
     ]
    },
    {
     "ename": "AttributeError",
     "evalue": "'MessageFactory' object has no attribute 'GetPrototype'",
     "output_type": "error",
     "traceback": [
      "\u001b[0;31m---------------------------------------------------------------------------\u001b[0m",
      "\u001b[0;31mAttributeError\u001b[0m                            Traceback (most recent call last)",
      "\u001b[0;31mAttributeError\u001b[0m: 'MessageFactory' object has no attribute 'GetPrototype'"
     ]
    },
    {
     "data": {
      "application/vnd.jupyter.widget-view+json": {
       "model_id": "61dfcbcaae1848babef0e25e41d6e27e",
       "version_major": 2,
       "version_minor": 0
      },
      "text/plain": [
       "modules.json:   0%|          | 0.00/229 [00:00<?, ?B/s]"
      ]
     },
     "metadata": {},
     "output_type": "display_data"
    },
    {
     "data": {
      "application/vnd.jupyter.widget-view+json": {
       "model_id": "0567cf3e2b6c42ea89fd7f6087434ccb",
       "version_major": 2,
       "version_minor": 0
      },
      "text/plain": [
       "config_sentence_transformers.json:   0%|          | 0.00/122 [00:00<?, ?B/s]"
      ]
     },
     "metadata": {},
     "output_type": "display_data"
    },
    {
     "data": {
      "application/vnd.jupyter.widget-view+json": {
       "model_id": "157fab20c32c4fb2b9182df39bf3d52b",
       "version_major": 2,
       "version_minor": 0
      },
      "text/plain": [
       "README.md: 0.00B [00:00, ?B/s]"
      ]
     },
     "metadata": {},
     "output_type": "display_data"
    },
    {
     "data": {
      "application/vnd.jupyter.widget-view+json": {
       "model_id": "30a4d756d6374ba58519ba85ef6a644f",
       "version_major": 2,
       "version_minor": 0
      },
      "text/plain": [
       "sentence_bert_config.json:   0%|          | 0.00/53.0 [00:00<?, ?B/s]"
      ]
     },
     "metadata": {},
     "output_type": "display_data"
    },
    {
     "data": {
      "application/vnd.jupyter.widget-view+json": {
       "model_id": "2510ed3c4d71457c94668366d298ec58",
       "version_major": 2,
       "version_minor": 0
      },
      "text/plain": [
       "config.json:   0%|          | 0.00/723 [00:00<?, ?B/s]"
      ]
     },
     "metadata": {},
     "output_type": "display_data"
    },
    {
     "data": {
      "application/vnd.jupyter.widget-view+json": {
       "model_id": "432cd4d648b9407b852dff06c003ec8c",
       "version_major": 2,
       "version_minor": 0
      },
      "text/plain": [
       "model.safetensors:   0%|          | 0.00/1.11G [00:00<?, ?B/s]"
      ]
     },
     "metadata": {},
     "output_type": "display_data"
    },
    {
     "data": {
      "application/vnd.jupyter.widget-view+json": {
       "model_id": "96c57d6b54ce429eb050f683554bdd89",
       "version_major": 2,
       "version_minor": 0
      },
      "text/plain": [
       "tokenizer_config.json:   0%|          | 0.00/402 [00:00<?, ?B/s]"
      ]
     },
     "metadata": {},
     "output_type": "display_data"
    },
    {
     "data": {
      "application/vnd.jupyter.widget-view+json": {
       "model_id": "7a07e3abbfad4caaac7c244be58d2b3b",
       "version_major": 2,
       "version_minor": 0
      },
      "text/plain": [
       "sentencepiece.bpe.model:   0%|          | 0.00/5.07M [00:00<?, ?B/s]"
      ]
     },
     "metadata": {},
     "output_type": "display_data"
    },
    {
     "data": {
      "application/vnd.jupyter.widget-view+json": {
       "model_id": "6f9c1692f8c34c63909beda76afb988a",
       "version_major": 2,
       "version_minor": 0
      },
      "text/plain": [
       "tokenizer.json: 0.00B [00:00, ?B/s]"
      ]
     },
     "metadata": {},
     "output_type": "display_data"
    },
    {
     "data": {
      "application/vnd.jupyter.widget-view+json": {
       "model_id": "a8e078cc4bac4f5f9ab0c0ff7ed0626d",
       "version_major": 2,
       "version_minor": 0
      },
      "text/plain": [
       "special_tokens_map.json:   0%|          | 0.00/239 [00:00<?, ?B/s]"
      ]
     },
     "metadata": {},
     "output_type": "display_data"
    },
    {
     "data": {
      "application/vnd.jupyter.widget-view+json": {
       "model_id": "35c32d587dd2446aa266e6a4ef33de93",
       "version_major": 2,
       "version_minor": 0
      },
      "text/plain": [
       "config.json:   0%|          | 0.00/190 [00:00<?, ?B/s]"
      ]
     },
     "metadata": {},
     "output_type": "display_data"
    },
    {
     "name": "stdout",
     "output_type": "stream",
     "text": [
      "Vector store not found or empty, creating and persisting new one.\n"
     ]
    },
    {
     "name": "stderr",
     "output_type": "stream",
     "text": [
      "/tmp/ipykernel_36/3291284671.py:23: LangChainDeprecationWarning: Since Chroma 0.4.x the manual persistence method is no longer supported as docs are automatically persisted.\n",
      "  vectordb.persist() # Ensure the database is written to disk\n"
     ]
    },
    {
     "name": "stdout",
     "output_type": "stream",
     "text": [
      "Vector store created and persisted.\n",
      "Vector store not found or empty, creating and persisting new one.\n",
      "Vector store created and persisted.\n"
     ]
    }
   ],
   "source": [
    "# Define the directory for persisting the ChromaDB for English\n",
    "DB_DIR_en = \"/kaggle/working/chroma_db_data_english\"\n",
    "# Define the directory for persisting the ChromaDB for Arabic\n",
    "DB_DIR_ar = \"/kaggle/working/chroma_db_data_Arabic\"\n",
    "\n",
    "vector_db_ar = initialize_vector_store(prepared_docs_ar, DB_DIR_ar)\n",
    "vector_db_en = initialize_vector_store(prepared_docs_en, DB_DIR_en)"
   ]
  },
  {
   "cell_type": "code",
   "execution_count": 30,
   "metadata": {
    "execution": {
     "iopub.execute_input": "2025-07-23T08:51:03.548774Z",
     "iopub.status.busy": "2025-07-23T08:51:03.548488Z",
     "iopub.status.idle": "2025-07-23T08:51:04.208171Z",
     "shell.execute_reply": "2025-07-23T08:51:04.207472Z",
     "shell.execute_reply.started": "2025-07-23T08:51:03.548753Z"
    },
    "trusted": true
   },
   "outputs": [
    {
     "name": "stdout",
     "output_type": "stream",
     "text": [
      "Zipping the ChromaDB folder: /kaggle/working/chroma_db_data_english...\n",
      "ChromaDB folder successfully zipped to /kaggle/working/chroma_db_archive_en.zip\n",
      "You can now download this file from the Kaggle 'Output' section or by clicking on the file in the file browser.\n"
     ]
    }
   ],
   "source": [
    "import shutil\n",
    "import os\n",
    "\n",
    "# Define the path to the ChromaDB directory\n",
    "DB_DIR = \"/kaggle/working/chroma_db_data_english\"\n",
    "# Define the name for the zip file (without .zip extension)\n",
    "ZIP_NAME = \"chroma_db_archive_en\"\n",
    "# Define the full path for the output zip file\n",
    "OUTPUT_ZIP_PATH = f\"/kaggle/working/{ZIP_NAME}\"\n",
    "\n",
    "if os.path.exists(DB_DIR):\n",
    "    print(f\"Zipping the ChromaDB folder: {DB_DIR}...\")\n",
    "    # Create a zip archive of the directory\n",
    "    shutil.make_archive(OUTPUT_ZIP_PATH, 'zip', DB_DIR)\n",
    "    print(f\"ChromaDB folder successfully zipped to {OUTPUT_ZIP_PATH}.zip\")\n",
    "    print(\"You can now download this file from the Kaggle 'Output' section or by clicking on the file in the file browser.\")\n",
    "else:\n",
    "    print(f\"Error: ChromaDB directory '{DB_DIR}' not found. Please ensure it was created successfully.\")"
   ]
  },
  {
   "cell_type": "code",
   "execution_count": null,
   "metadata": {
    "trusted": true
   },
   "outputs": [],
   "source": [
    "import shutil\n",
    "import os\n",
    "\n",
    "# Define the path to the ChromaDB directory\n",
    "DB_DIR = \"/kaggle/working/chroma_db_data_Arabic\"\n",
    "# Define the name for the zip file (without .zip extension)\n",
    "ZIP_NAME = \"chroma_db_archive_ar\"\n",
    "# Define the full path for the output zip file\n",
    "OUTPUT_ZIP_PATH = f\"/kaggle/working/{ZIP_NAME}\"\n",
    "\n",
    "if os.path.exists(DB_DIR):\n",
    "    print(f\"Zipping the ChromaDB folder: {DB_DIR}...\")\n",
    "    # Create a zip archive of the directory\n",
    "    shutil.make_archive(OUTPUT_ZIP_PATH, 'zip', DB_DIR)\n",
    "    print(f\"ChromaDB folder successfully zipped to {OUTPUT_ZIP_PATH}.zip\")\n",
    "    print(\"You can now download this file from the Kaggle 'Output' section or by clicking on the file in the file browser.\")\n",
    "else:\n",
    "    print(f\"Error: ChromaDB directory '{DB_DIR}' not found. Please ensure it was created successfully.\")"
   ]
  }
 ],
 "metadata": {
  "kaggle": {
   "accelerator": "gpu",
   "dataSources": [
    {
     "datasetId": 7920453,
     "sourceId": 12545122,
     "sourceType": "datasetVersion"
    }
   ],
   "dockerImageVersionId": 31090,
   "isGpuEnabled": true,
   "isInternetEnabled": true,
   "language": "python",
   "sourceType": "notebook"
  },
  "kernelspec": {
   "display_name": "Python 3",
   "language": "python",
   "name": "python3"
  },
  "language_info": {
   "codemirror_mode": {
    "name": "ipython",
    "version": 3
   },
   "file_extension": ".py",
   "mimetype": "text/x-python",
   "name": "python",
   "nbconvert_exporter": "python",
   "pygments_lexer": "ipython3",
   "version": "3.11.13"
  }
 },
 "nbformat": 4,
 "nbformat_minor": 4
}
